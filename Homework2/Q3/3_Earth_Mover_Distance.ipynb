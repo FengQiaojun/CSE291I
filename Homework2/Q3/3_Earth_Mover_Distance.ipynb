{
 "cells": [
  {
   "cell_type": "code",
   "execution_count": 1,
   "metadata": {
    "scrolled": true
   },
   "outputs": [],
   "source": [
    "import tf_emddistance\n",
    "import numpy as np\n",
    "import tensorflow as tf\n",
    "import random"
   ]
  },
  {
   "cell_type": "code",
   "execution_count": 8,
   "metadata": {},
   "outputs": [],
   "source": [
    "# generate a series of point clouds sampled from a series of circle\n",
    "def generate_circle_points(n_clouds,n_points,r_min,r_max):\n",
    "    S = np.zeros([n_clouds,n_points,3])\n",
    "    np.random.seed(291)\n",
    "    for index_cloud in range(n_clouds):       \n",
    "        r = np.random.uniform(r_min,r_max)\n",
    "        for index_point in range(n_points):\n",
    "            theta = np.random.uniform(0,2*np.pi)\n",
    "            S[index_cloud][index_point][0:2] = [r*np.cos(theta),r*np.sin(theta)]\n",
    "    return S"
   ]
  },
  {
   "cell_type": "code",
   "execution_count": 17,
   "metadata": {
    "scrolled": true
   },
   "outputs": [
    {
     "name": "stdout",
     "output_type": "stream",
     "text": [
      "iter:  0 \tloss:  357610.8 \tavg_r:  0.33978266\n",
      "iter:  10 \tloss:  200051.23 \tavg_r:  2.105113\n",
      "iter:  20 \tloss:  129928.55 \tavg_r:  3.289131\n",
      "iter:  30 \tloss:  98789.8 \tavg_r:  4.077639\n",
      "iter:  40 \tloss:  84987.17 \tavg_r:  4.6025643\n",
      "iter:  50 \tloss:  78845.625 \tavg_r:  4.951979\n",
      "iter:  60 \tloss:  76128.28 \tavg_r:  5.184564\n",
      "iter:  70 \tloss:  74909.625 \tavg_r:  5.3393846\n",
      "iter:  80 \tloss:  74370.93 \tavg_r:  5.4424434\n",
      "iter:  90 \tloss:  74129.55 \tavg_r:  5.5110407\n",
      "iter:  100 \tloss:  74014.28 \tavg_r:  5.556702\n",
      "iter:  110 \tloss:  73958.16 \tavg_r:  5.5871058\n",
      "iter:  120 \tloss:  73946.15 \tavg_r:  5.607348\n",
      "iter:  130 \tloss:  73936.125 \tavg_r:  5.620813\n",
      "iter:  140 \tloss:  73926.2 \tavg_r:  5.6297703\n",
      "iter:  150 \tloss:  73936.19 \tavg_r:  5.6357436\n",
      "iter:  160 \tloss:  73931.22 \tavg_r:  5.639717\n",
      "iter:  170 \tloss:  73918.04 \tavg_r:  5.642364\n",
      "iter:  180 \tloss:  73921.14 \tavg_r:  5.6441236\n",
      "iter:  190 \tloss:  73919.4 \tavg_r:  5.645302\n",
      "iter:  200 \tloss:  73929.164 \tavg_r:  5.6460743\n",
      "iter:  210 \tloss:  73927.234 \tavg_r:  5.6466007\n",
      "iter:  220 \tloss:  73918.12 \tavg_r:  5.6469584\n",
      "iter:  230 \tloss:  73924.1 \tavg_r:  5.6471996\n",
      "iter:  240 \tloss:  73927.46 \tavg_r:  5.6473446\n",
      "iter:  250 \tloss:  73920.586 \tavg_r:  5.647459\n",
      "iter:  260 \tloss:  73920.336 \tavg_r:  5.647535\n",
      "iter:  270 \tloss:  73925.58 \tavg_r:  5.647588\n",
      "iter:  280 \tloss:  73918.375 \tavg_r:  5.6476216\n",
      "iter:  290 \tloss:  73916.54 \tavg_r:  5.647648\n"
     ]
    }
   ],
   "source": [
    "n_clouds = 100\n",
    "n_points = 500\n",
    "r_min = 1\n",
    "r_max = 10\n",
    "\n",
    "S = tf.placeholder(tf.float32,[None,n_points,3])\n",
    "x = tf.Variable(tf.truncated_normal([1,n_points,3],mean=0.0,stddev=0.1), dtype = tf.float32)\n",
    "X = tf.tile(x,[tf.shape(S)[0],1,1])\n",
    "dist,_,_ = tf_emddistance.emd_distance(S,X)\n",
    "model_loss = tf.reduce_mean(dist)*10000\n",
    "avg_r = tf.reduce_mean(tf.norm(x,axis = 2))\n",
    "train = tf.train.GradientDescentOptimizer(1e-3).minimize(model_loss)\n",
    "\n",
    "iter_times = 300\n",
    "with tf.Session() as sess:\n",
    "    sess.run(tf.global_variables_initializer())\n",
    "    \n",
    "    S_circle = generate_circle_points(n_clouds,n_points,r_min,r_max)   \n",
    "    for iters in range(iter_times):\n",
    "        sess.run(train, {S: S_circle})\n",
    "        loss,r = sess.run([model_loss,avg_r],{S: S_circle})\n",
    "        if iters%10 == 0:\n",
    "            print('iter: ', iters, '\\tloss: ', loss, '\\tavg_r: ', r)\n",
    "        \n",
    "    x_final = sess.run(x,{S: S_circle})\n",
    "    x_final = np.reshape(x_final,[n_points,3])"
   ]
  },
  {
   "cell_type": "code",
   "execution_count": 45,
   "metadata": {
    "scrolled": true
   },
   "outputs": [],
   "source": []
  },
  {
   "cell_type": "code",
   "execution_count": 50,
   "metadata": {},
   "outputs": [
    {
     "data": {
      "text/html": [
       "\n",
       "        <iframe\n",
       "            width=\"800\"\n",
       "            height=\"500\"\n",
       "            src=\"pyntcloud_plot.html\"\n",
       "            frameborder=\"0\"\n",
       "            allowfullscreen\n",
       "        ></iframe>\n",
       "        "
      ],
      "text/plain": [
       "<IPython.lib.display.IFrame at 0x7efc4966cef0>"
      ]
     },
     "execution_count": 50,
     "metadata": {},
     "output_type": "execute_result"
    }
   ],
   "source": [
    "import pandas as pd\n",
    "from pyntcloud import PyntCloud\n",
    "red_color = np.tile(np.array([255,0,0]),[n_points,1])\n",
    "grey_color = np.tile(np.array([255,255,255]),[n_clouds*n_points,1])\n",
    "colors = (np.vstack([red_color,grey_color])).astype(np.uint8)\n",
    "P = np.vstack([x_final,np.reshape(S_circle,[n_clouds*n_points,3])])\n",
    "points = pd.DataFrame(P, columns=['x', 'y', 'z'])\n",
    "points[['red', 'blue', 'green']] = pd.DataFrame(colors, index=points.index)\n",
    "cloud = PyntCloud(points)\n",
    "cloud.plot(point_size = 0.01,lines=[], line_color=[])"
   ]
  },
  {
   "cell_type": "code",
   "execution_count": null,
   "metadata": {},
   "outputs": [],
   "source": []
  },
  {
   "cell_type": "code",
   "execution_count": 1,
   "metadata": {},
   "outputs": [],
   "source": [
    "import numpy as np\n",
    "import scipy\n",
    "import scipy.spatial\n",
    "import scipy.optimize\n",
    "import pickle\n",
    "import random"
   ]
  },
  {
   "cell_type": "code",
   "execution_count": 83,
   "metadata": {},
   "outputs": [],
   "source": [
    "X1 = pickle.load(open('X1.pkl', 'rb'))\n",
    "X2 = pickle.load(open('X2.pkl', 'rb'))\n",
    "D = scipy.spatial.distance.cdist(X1,X2)"
   ]
  },
  {
   "cell_type": "code",
   "execution_count": 84,
   "metadata": {},
   "outputs": [
    {
     "name": "stdout",
     "output_type": "stream",
     "text": [
      "46.931869049959204\n"
     ]
    }
   ],
   "source": [
    "row_ind, col_ind = scipy.optimize.linear_sum_assignment(D)\n",
    "cost = np.sum(D[row_ind,col_ind])\n",
    "print(cost)"
   ]
  },
  {
   "cell_type": "code",
   "execution_count": 86,
   "metadata": {},
   "outputs": [],
   "source": [
    "D = np.array([[15,40,45],[20,60,35],[20,40,25]])"
   ]
  },
  {
   "cell_type": "code",
   "execution_count": 97,
   "metadata": {
    "scrolled": true
   },
   "outputs": [
    {
     "name": "stdout",
     "output_type": "stream",
     "text": [
      "4C1:  [[1 0 0]\n",
      " [1 0 0]\n",
      " [1 0 0]]\n",
      "4C2:  [[ 0 25 30]\n",
      " [ 0 40 15]\n",
      " [ 0 20  5]]\n",
      "4C1:  [[1 0 0]\n",
      " [1 0 0]\n",
      " [1 0 1]]\n",
      "4C2:  [[ 0 20 25]\n",
      " [ 0 35 10]\n",
      " [ 0 15  0]]\n",
      "4C1:  [[1 0 0]\n",
      " [1 0 0]\n",
      " [1 0 1]]\n",
      "4C2:  [[ 0 20 25]\n",
      " [ 0 35 10]\n",
      " [ 0 15  0]]\n",
      "4C1:  [[1 0 0]\n",
      " [1 0 0]\n",
      " [1 1 1]]\n",
      "4C2:  [[ 0  5 25]\n",
      " [ 0 20 10]\n",
      " [ 0  0  0]]\n",
      "4C1:  [[1 1 0]\n",
      " [1 0 0]\n",
      " [0 1 1]]\n",
      "4C2:  [[ 0  0 20]\n",
      " [ 0 15  5]\n",
      " [ 5  0  0]]\n",
      "85\n"
     ]
    }
   ],
   "source": [
    "[row_a,col_a] = linear_assignment(D)\n",
    "cost = np.sum(D[row_a,col_a])\n",
    "print(cost)"
   ]
  },
  {
   "cell_type": "code",
   "execution_count": 10,
   "metadata": {},
   "outputs": [
    {
     "data": {
      "text/plain": [
       "(500, 2)"
      ]
     },
     "execution_count": 10,
     "metadata": {},
     "output_type": "execute_result"
    }
   ],
   "source": [
    "answer.shape"
   ]
  },
  {
   "cell_type": "code",
   "execution_count": 96,
   "metadata": {},
   "outputs": [],
   "source": [
    "\"\"\"\n",
    "Solve the unique lowest-cost assignment problem using the\n",
    "Hungarian algorithm (also known as Munkres algorithm).\n",
    "\n",
    "\"\"\"\n",
    "# Based on original code by Brain Clapper, adapted to NumPy by Gael Varoquaux.\n",
    "# Heavily refactored by Lars Buitinck.\n",
    "#\n",
    "# TODO: a version of this algorithm has been incorporated in SciPy; use that\n",
    "# when SciPy 0.17 is released.\n",
    "\n",
    "# Copyright (c) 2008 Brian M. Clapper <bmc@clapper.org>, Gael Varoquaux\n",
    "# Author: Brian M. Clapper, Gael Varoquaux\n",
    "# LICENSE: BSD\n",
    "\n",
    "\n",
    "def linear_assignment(X):\n",
    "    indices = _hungarian(X)\n",
    "    return indices\n",
    "\n",
    "\n",
    "class _HungarianState(object):\n",
    "    \"\"\"State of one execution of the Hungarian algorithm.\n",
    "\n",
    "    Parameters\n",
    "    ----------\n",
    "    cost_matrix : 2D matrix\n",
    "        The cost matrix. Does not have to be square.\n",
    "    \"\"\"\n",
    "\n",
    "    def __init__(self, cost_matrix):\n",
    "        cost_matrix = np.atleast_2d(cost_matrix)\n",
    "\n",
    "        self.C = cost_matrix.copy()\n",
    "        n, m = self.C.shape\n",
    "        self.row_uncovered = np.ones(n, dtype=np.bool)\n",
    "        self.col_uncovered = np.ones(m, dtype=np.bool)\n",
    "        self.Z0_r = 0\n",
    "        self.Z0_c = 0\n",
    "        self.path = np.zeros((n + m, 2), dtype=int)\n",
    "        self.marked = np.zeros((n, m), dtype=int)\n",
    "\n",
    "    def _find_prime_in_row(self, row):\n",
    "        \"\"\"\n",
    "        Find the first prime element in the specified row. Returns\n",
    "        the column index, or -1 if no starred element was found.\n",
    "        \"\"\"\n",
    "        col = np.argmax(self.marked[row] == 2)\n",
    "        if self.marked[row, col] != 2:\n",
    "            col = -1\n",
    "        return col\n",
    "\n",
    "    def _clear_covers(self):\n",
    "        \"\"\"Clear all covered matrix cells\"\"\"\n",
    "        self.row_uncovered[:] = True\n",
    "        self.col_uncovered[:] = True\n",
    "\n",
    "\n",
    "def _hungarian(cost_matrix):\n",
    "    \"\"\"The Hungarian algorithm.\n",
    "\n",
    "    Calculate the Munkres solution to the classical assignment problem and\n",
    "    return the indices for the lowest-cost pairings.\n",
    "\n",
    "    Parameters\n",
    "    ----------\n",
    "    cost_matrix : 2D matrix\n",
    "        The cost matrix. Does not have to be square.\n",
    "\n",
    "    Returns\n",
    "    -------\n",
    "    indices : 2D array of indices\n",
    "        The pairs of (row, col) indices in the original array giving\n",
    "        the original ordering.\n",
    "    \"\"\"\n",
    "    state = _HungarianState(cost_matrix)\n",
    "\n",
    "    # No need to bother with assignments if one of the dimensions\n",
    "    # of the cost matrix is zero-length.\n",
    "    step = None if 0 in cost_matrix.shape else _step1\n",
    "\n",
    "    while step is not None:\n",
    "        step = step(state)\n",
    "        \n",
    "    # Look for the starred columns\n",
    "    row_ind = np.where(state.marked == 1)[0]\n",
    "    col_ind = np.where(state.marked == 1)[1]\n",
    "    # results = np.array(np.where(state.marked == 1)).T\n",
    " \n",
    "    return row_ind, col_ind\n",
    "\n",
    "\n",
    "# Individual steps of the algorithm follow, as a state machine: they return\n",
    "# the next step to be taken (function to be called), if any.\n",
    "\n",
    "def _step1(state):\n",
    "    \"\"\"Steps 1 and 2 in the Wikipedia page.\"\"\"\n",
    "\n",
    "    # Step1: For each row of the matrix, find the smallest element and\n",
    "    # subtract it from every element in its row.\n",
    "    state.C -= state.C.min(axis=1)[:, np.newaxis]\n",
    "    # Step2: Find a zero (Z) in the resulting matrix. If there is no\n",
    "    # starred zero in its row or column, star Z. Repeat for each element\n",
    "    # in the matrix.\n",
    "    for i, j in zip(*np.where(state.C == 0)):\n",
    "        if state.col_uncovered[j] and state.row_uncovered[i]:\n",
    "            state.marked[i, j] = 1\n",
    "            state.col_uncovered[j] = False\n",
    "            state.row_uncovered[i] = False\n",
    "    state._clear_covers()\n",
    "    return _step3\n",
    "\n",
    "\n",
    "def _step3(state):\n",
    "    \"\"\"\n",
    "    Cover each column containing a starred zero. If n columns are covered,\n",
    "    the starred zeros describe a complete set of unique assignments.\n",
    "    In this case, Go to DONE, otherwise, Go to Step 4.\n",
    "    \"\"\"\n",
    "    marked = (state.marked == 1)\n",
    "    state.col_uncovered[np.any(marked, axis=0)] = False\n",
    "    if marked.sum() < state.C.shape[0]:\n",
    "        return _step4\n",
    "\n",
    "\n",
    "\n",
    "def _step4(state):\n",
    "    \"\"\"\n",
    "    Find a noncovered zero and prime it. If there is no starred zero\n",
    "    in the row containing this primed zero, Go to Step 5. Otherwise,\n",
    "    cover this row and uncover the column containing the starred\n",
    "    zero. Continue in this manner until there are no uncovered zeros\n",
    "    left. Save the smallest uncovered value and Go to Step 6.\n",
    "    \"\"\"\n",
    "    # We convert to int as numpy operations are faster on int\n",
    "    C = (state.C == 0).astype(np.int)\n",
    "    print('4C1: ',C)\n",
    "    print('4C2: ',state.C)\n",
    "    covered_C = C * state.row_uncovered[:, np.newaxis]\n",
    "    covered_C *= state.col_uncovered.astype(dtype=np.int, copy=False)\n",
    "    n = state.C.shape[0]\n",
    "    m = state.C.shape[1]\n",
    "    while True:\n",
    "        # Find an uncovered zero\n",
    "        row, col = np.unravel_index(np.argmax(covered_C), (n, m))\n",
    "        if covered_C[row, col] == 0:\n",
    "            return _step6\n",
    "        else:\n",
    "            state.marked[row, col] = 2\n",
    "            # Find the first starred element in the row\n",
    "            star_col = np.argmax(state.marked[row] == 1)\n",
    "            if not state.marked[row, star_col] == 1:\n",
    "                # Could not find one\n",
    "                state.Z0_r = row\n",
    "                state.Z0_c = col\n",
    "                return _step5\n",
    "            else:\n",
    "                col = star_col\n",
    "                state.row_uncovered[row] = False\n",
    "                state.col_uncovered[col] = True\n",
    "                covered_C[:, col] = C[:, col] * (\n",
    "                    state.row_uncovered.astype(dtype=np.int, copy=False))\n",
    "                covered_C[row] = 0\n",
    "\n",
    "\n",
    "def _step5(state):\n",
    "    \"\"\"\n",
    "    Construct a series of alternating primed and starred zeros as follows.\n",
    "    Let Z0 represent the uncovered primed zero found in Step 4.\n",
    "    Let Z1 denote the starred zero in the column of Z0 (if any).\n",
    "    Let Z2 denote the primed zero in the row of Z1 (there will always be one).\n",
    "    Continue until the series terminates at a primed zero that has no starred\n",
    "    zero in its column. Unstar each starred zero of the series, star each\n",
    "    primed zero of the series, erase all primes and uncover every line in the\n",
    "    matrix. Return to Step 3\n",
    "    \"\"\"\n",
    "    count = 0\n",
    "    path = state.path\n",
    "    path[count, 0] = state.Z0_r\n",
    "    path[count, 1] = state.Z0_c\n",
    "\n",
    "    while True:\n",
    "        # Find the first starred element in the col defined by\n",
    "        # the path.\n",
    "        row = np.argmax(state.marked[:, path[count, 1]] == 1)\n",
    "        if not state.marked[row, path[count, 1]] == 1:\n",
    "            # Could not find one\n",
    "            break\n",
    "        else:\n",
    "            count += 1\n",
    "            path[count, 0] = row\n",
    "            path[count, 1] = path[count - 1, 1]\n",
    "\n",
    "        # Find the first prime element in the row defined by the\n",
    "        # first path step\n",
    "        col = np.argmax(state.marked[path[count, 0]] == 2)\n",
    "        if state.marked[row, col] != 2:\n",
    "            col = -1\n",
    "        count += 1\n",
    "        path[count, 0] = path[count - 1, 0]\n",
    "        path[count, 1] = col\n",
    "\n",
    "    # Convert paths\n",
    "    for i in range(count + 1):\n",
    "        if state.marked[path[i, 0], path[i, 1]] == 1:\n",
    "            state.marked[path[i, 0], path[i, 1]] = 0\n",
    "        else:\n",
    "            state.marked[path[i, 0], path[i, 1]] = 1\n",
    "\n",
    "    state._clear_covers()\n",
    "    # Erase all prime markings\n",
    "    state.marked[state.marked == 2] = 0\n",
    "    return _step3\n",
    "\n",
    "\n",
    "def _step6(state):\n",
    "    \"\"\"\n",
    "    Add the value found in Step 4 to every element of each covered row,\n",
    "    and subtract it from every element of each uncovered column.\n",
    "    Return to Step 4 without altering any stars, primes, or covered lines.\n",
    "    \"\"\"\n",
    "    # the smallest uncovered value in the matrix\n",
    "    if np.any(state.row_uncovered) and np.any(state.col_uncovered):\n",
    "        minval = np.min(state.C[state.row_uncovered], axis=0)\n",
    "        minval = np.min(minval[state.col_uncovered])\n",
    "        state.C[np.logical_not(state.row_uncovered)] += minval\n",
    "        state.C[:, state.col_uncovered] -= minval\n",
    "    return _step4\n"
   ]
  },
  {
   "cell_type": "code",
   "execution_count": 41,
   "metadata": {},
   "outputs": [
    {
     "data": {
      "text/plain": [
       "(4, 1)"
      ]
     },
     "execution_count": 41,
     "metadata": {},
     "output_type": "execute_result"
    }
   ],
   "source": [
    "a = np.random.random([4])\n",
    "a[:, np.newaxis].shape"
   ]
  },
  {
   "cell_type": "code",
   "execution_count": 9,
   "metadata": {},
   "outputs": [],
   "source": [
    "X1 = pickle.load(open('S_teapot_euclidean.pkl', 'rb'))\n",
    "X2 = pickle.load(open('S_violin_case_euclidean.pkl', 'rb'))"
   ]
  },
  {
   "cell_type": "code",
   "execution_count": 11,
   "metadata": {},
   "outputs": [],
   "source": [
    "output = open('X2.pkl', 'wb')\n",
    "pickle.dump(X2, output)\n",
    "output.close()"
   ]
  }
 ],
 "metadata": {
  "kernelspec": {
   "display_name": "Python [conda env:tensorflow]",
   "language": "python",
   "name": "conda-env-tensorflow-py"
  },
  "language_info": {
   "codemirror_mode": {
    "name": "ipython",
    "version": 3
   },
   "file_extension": ".py",
   "mimetype": "text/x-python",
   "name": "python",
   "nbconvert_exporter": "python",
   "pygments_lexer": "ipython3",
   "version": "3.6.4"
  }
 },
 "nbformat": 4,
 "nbformat_minor": 2
}
