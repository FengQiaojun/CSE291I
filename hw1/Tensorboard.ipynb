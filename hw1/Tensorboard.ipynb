{
 "cells": [
  {
   "cell_type": "code",
   "execution_count": 1,
   "metadata": {},
   "outputs": [
    {
     "name": "stderr",
     "output_type": "stream",
     "text": [
      "/Users/fengqiaojun/anaconda3/envs/tensorflow/lib/python3.6/importlib/_bootstrap.py:219: RuntimeWarning: compiletime version 3.5 of module 'tensorflow.python.framework.fast_tensor_util' does not match runtime version 3.6\n",
      "  return f(*args, **kwds)\n"
     ]
    },
    {
     "name": "stdout",
     "output_type": "stream",
     "text": [
      "created log_dir path\n"
     ]
    }
   ],
   "source": [
    "import tensorflow as tf\n",
    "config  = tf.ConfigProto()\n",
    "config.gpu_options.allow_growth = True\n",
    "sess = tf.Session(config=config)\n",
    "import os\n",
    "import shutil\n",
    "\n",
    "\"\"\"TensorBoard 简单例子。\n",
    "tf.summary.scalar('var_name', var)        # 记录标量的变化\n",
    "tf.summary.histogram('vec_name', vec)     # 记录向量或者矩阵，tensor的数值分布变化。\n",
    "\n",
    "merged = tf.summary.merge_all()           # 把所有的记录并把他们写到 log_dir 中\n",
    "train_writer = tf.summary.FileWriter(log_dir + '/add_example', sess.graph)  # 保存位置\n",
    "\n",
    "运行完后，在命令行中输入 tensorboard --logdir=log_dir_path(你保存到log路径)\n",
    "\"\"\"\n",
    "\n",
    "log_dir = 'summary/graph/'\n",
    "if os.path.exists(log_dir):   # 删掉以前的summary，以免重合\n",
    "    shutil.rmtree(log_dir)\n",
    "os.makedirs(log_dir)\n",
    "print ('created log_dir path')\n",
    "\n",
    "with tf.name_scope('add_example'):\n",
    "    a = tf.Variable(tf.truncated_normal([100,1], mean=0.5, stddev=0.5), name='var_a')\n",
    "    tf.summary.histogram('a_hist', a)\n",
    "    b = tf.Variable(tf.truncated_normal([100,1], mean=-0.5, stddev=1.0), name='var_b')\n",
    "    tf.summary.histogram('b_hist', b)\n",
    "    increase_b = tf.assign(b, b + 0.2)\n",
    "    c = tf.add(a, b)\n",
    "    tf.summary.histogram('c_hist', c)\n",
    "    c_mean = tf.reduce_mean(c)\n",
    "    tf.summary.scalar('c_mean', c_mean)\n",
    "merged = tf.summary.merge_all()\n",
    "writer = tf.summary.FileWriter(log_dir, sess.graph)\n",
    "\n",
    "\n",
    "sess.run(tf.global_variables_initializer())\n",
    "for step in range(500):\n",
    "    sess.run([merged, increase_b])    # 每步改变一次 b 的值\n",
    "    summary = sess.run(merged)\n",
    "    writer.add_summary(summary, step)\n",
    "writer.close()"
   ]
  },
  {
   "cell_type": "code",
   "execution_count": 16,
   "metadata": {},
   "outputs": [
    {
     "data": {
      "text/plain": [
       "'abc_3'"
      ]
     },
     "execution_count": 16,
     "metadata": {},
     "output_type": "execute_result"
    }
   ],
   "source": [
    "\"abc_\"+str(3)"
   ]
  },
  {
   "cell_type": "code",
   "execution_count": 1,
   "metadata": {},
   "outputs": [
    {
     "name": "stderr",
     "output_type": "stream",
     "text": [
      "/Users/fengqiaojun/anaconda3/envs/tensorflow/lib/python3.6/importlib/_bootstrap.py:219: RuntimeWarning: compiletime version 3.5 of module 'tensorflow.python.framework.fast_tensor_util' does not match runtime version 3.6\n",
      "  return f(*args, **kwds)\n"
     ]
    },
    {
     "name": "stdout",
     "output_type": "stream",
     "text": [
      "created log_dir path\n",
      "END!\n"
     ]
    }
   ],
   "source": [
    "import tensorflow as tf\n",
    "import os\n",
    "import shutil\n",
    "import numpy as np\n",
    "config  = tf.ConfigProto()\n",
    "config.gpu_options.allow_growth = True\n",
    "sess = tf.Session(config=config)\n",
    "\n",
    "\"\"\"TensorBoard 简单例子。\n",
    "tf.summary.scalar('var_name', var)        # 记录标量的变化\n",
    "tf.summary.histogram('vec_name', vec)     # 记录向量或者矩阵，tensor的数值分布变化。\n",
    "\n",
    "merged = tf.summary.merge_all()           # 把所有的记录并把他们写到 log_dir 中\n",
    "train_writer = tf.summary.FileWriter(log_dir + '/train', sess.graph)  # 保存位置\n",
    "test_writer = tf.summary.FileWriter(log_dir + '/test', sess.graph)\n",
    "运行完后，在命令行中输入 tensorboard --logdir=log_dir_path(你保存到log路径)\n",
    "\"\"\"\n",
    "\n",
    "log_dir = 'summary/graph2/'\n",
    "if os.path.exists(log_dir):   # 删掉以前的summary，以免重合\n",
    "    shutil.rmtree(log_dir)\n",
    "os.makedirs(log_dir)\n",
    "print ('created log_dir path')\n",
    "\n",
    "a = tf.placeholder(dtype=tf.float32, shape=[100,1], name='a')\n",
    "\n",
    "with tf.name_scope('add_example'):\n",
    "    b = tf.Variable(tf.truncated_normal([100,1], mean=-0.5, stddev=1.0), name='var_b')\n",
    "    tf.summary.histogram('b_hist', b)\n",
    "    increase_b = tf.assign(b, b + 0.2)\n",
    "    c = tf.add(a, b)\n",
    "    tf.summary.histogram('c_hist', c)\n",
    "    c_mean = tf.reduce_mean(c)\n",
    "    tf.summary.scalar('c_mean', c_mean)\n",
    "merged = tf.summary.merge_all()\n",
    "train_writer = tf.summary.FileWriter(log_dir + '/train', sess.graph)  # 保存位置\n",
    "test_writer = tf.summary.FileWriter(log_dir + '/test', sess.graph)\n",
    "\n",
    "\n",
    "sess.run(tf.global_variables_initializer())\n",
    "for step in range(500):\n",
    "    if (step+1) % 10 == 0:\n",
    "        _a = np.random.randn(100,1) \n",
    "        summary, _ = sess.run([merged, increase_b], feed_dict={a: _a})    # 每步改变一次 b 的值\n",
    "        test_writer.add_summary(summary, step)\n",
    "    else:\n",
    "        _a = np.random.randn(100,1) + step*0.2\n",
    "        summary, _ = sess.run([merged, increase_b], feed_dict={a: _a})    # 每步改变一次 b 的值\n",
    "        train_writer.add_summary(summary, step)\n",
    "train_writer.close()\n",
    "test_writer.close()\n",
    "print('END!')"
   ]
  },
  {
   "cell_type": "code",
   "execution_count": 14,
   "metadata": {},
   "outputs": [
    {
     "name": "stdout",
     "output_type": "stream",
     "text": [
      "Extracting MNIST_data/train-images-idx3-ubyte.gz\n",
      "Extracting MNIST_data/train-labels-idx1-ubyte.gz\n",
      "Extracting MNIST_data/t10k-images-idx3-ubyte.gz\n",
      "Extracting MNIST_data/t10k-labels-idx1-ubyte.gz\n",
      "0.891\n"
     ]
    }
   ],
   "source": [
    "import os\n",
    "import shutil\n",
    "import tensorflow as tf\n",
    "from tensorflow.examples.tutorials.mnist import input_data\n",
    "mnist = input_data.read_data_sets(\"MNIST_data/\", one_hot=True)\n",
    "\n",
    "log_dir = \"mnist/train/\"\n",
    "if os.path.exists(log_dir):   # 删掉以前的summary，以免重合\n",
    "    shutil.rmtree(log_dir)\n",
    "os.makedirs(log_dir)\n",
    "\n",
    "sess = tf.InteractiveSession()\n",
    "\n",
    "x = tf.placeholder(tf.float32, [None, 784])\n",
    "W = tf.Variable(tf.zeros([784, 10]))\n",
    "b = tf.Variable(tf.zeros([10]))\n",
    "y = tf.matmul(x, W) + b\n",
    "y_ = tf.placeholder(tf.int64, [None, 10])\n",
    "cross_entropy = tf.nn.softmax_cross_entropy_with_logits(logits=y, labels=y_)\n",
    "tf.summary.scalar('cross_entropy',cross_entropy)\n",
    "merged = tf.summary.merge_all()\n",
    "train_writer = tf.summary.FileWriter(log_dir + '/train', sess.graph)  # 保存位置\n",
    "\n",
    "train_step = tf.train.GradientDescentOptimizer(0.5).minimize(cross_entropy)\n",
    "\n",
    "tf.global_variables_initializer().run()\n",
    "for step in range(1000):\n",
    "    batch_xs, batch_ys = mnist.train.next_batch(100)\n",
    "    sess.run(train_step, feed_dict={x: batch_xs, y_: batch_ys})\n",
    "    #_,summary = sess.run([train_step,merged], feed_dict={x: batch_xs, y_: batch_ys})\n",
    "    #train_writer.add_summary(summary, step)\n",
    "    \n",
    "correct_prediction = tf.equal(tf.argmax(y,1), tf.argmax(y_,1))\n",
    "accuracy = tf.reduce_mean(tf.cast(correct_prediction, tf.float32))\n",
    "print(sess.run(accuracy, feed_dict={x: mnist.test.images, y_: mnist.test.labels}))"
   ]
  },
  {
   "cell_type": "code",
   "execution_count": null,
   "metadata": {
    "collapsed": true
   },
   "outputs": [],
   "source": []
  }
 ],
 "metadata": {
  "kernelspec": {
   "display_name": "Python [conda env:tensorflow]",
   "language": "python",
   "name": "conda-env-tensorflow-py"
  },
  "language_info": {
   "codemirror_mode": {
    "name": "ipython",
    "version": 3
   },
   "file_extension": ".py",
   "mimetype": "text/x-python",
   "name": "python",
   "nbconvert_exporter": "python",
   "pygments_lexer": "ipython3",
   "version": "3.6.4"
  }
 },
 "nbformat": 4,
 "nbformat_minor": 2
}
